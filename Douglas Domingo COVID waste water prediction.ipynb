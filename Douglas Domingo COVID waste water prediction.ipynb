{
 "cells": [
  {
   "cell_type": "markdown",
   "id": "0d21baa4",
   "metadata": {},
   "source": [
    "# Importing the relevant data"
   ]
  },
  {
   "cell_type": "markdown",
   "id": "e0774b67",
   "metadata": {},
   "source": [
    "### Can we predict COVID outbreaks fromwaste water data?\n",
    "\n",
    "Waste water is managed by most major cities. It must be treated in a controlled way to prevent contamination of drinking water and the protection of natural wetlands.\n",
    "It has been documented that genetic material of the COVID-19 virus can be found in waste water. This material is no longer capable of infection.\n",
    "The nature of outbreaks and pandemics are that there is a sudden spike in patients of this kind of communicable disease.\n",
    "Therefore if there was a way to predict an outbreak by detecting a spike in COVID genetic material in waste water prior to an outbreak in disease it would be helpfull in having healthcare authorities manage resoures to quickly help the community."
   ]
  },
  {
   "cell_type": "markdown",
   "id": "190ade3e",
   "metadata": {},
   "source": [
    "## step 1 download the data\n",
    "\n",
    "## step 2 convert to csv files"
   ]
  },
  {
   "cell_type": "markdown",
   "id": "92d56a44",
   "metadata": {},
   "source": [
    "##  Step 1 NYC open data"
   ]
  },
  {
   "cell_type": "markdown",
   "id": "22a2c55a",
   "metadata": {},
   "source": [
    "### NYC has started an initiative to share data collected with the public inorder to show transparancey and to encourage any party to use the data to help find meaning in the data"
   ]
  },
  {
   "cell_type": "markdown",
   "id": "d960d88d",
   "metadata": {},
   "source": [
    "#### below are the links used in the case"
   ]
  },
  {
   "cell_type": "markdown",
   "id": "da7aab5d",
   "metadata": {},
   "source": [
    "covid waste water[https://data.cityofnewyork.us/Health/SARS-CoV-2-concentrations-measured-in-NYC-Wastewat/f7dc-2q9f/data]"
   ]
  },
  {
   "cell_type": "markdown",
   "id": "a4750e40",
   "metadata": {},
   "source": [
    "covid outcomes [https://data.cityofnewyork.us/w/cwmx-mvra/25te-f2tw?cur=hHXzxgjgCNz]\n"
   ]
  },
  {
   "cell_type": "code",
   "execution_count": null,
   "id": "c7cef5d0",
   "metadata": {},
   "outputs": [],
   "source": [
    "covid waste water holds data from various waste water treatment plants in NYC.\n",
    "it contains data on the COVID genetic material in waste water\n",
    "Covid outcomes has data on how many people are tested for COVID and what happend to them. for example are they positive for COVID or ha"
   ]
  },
  {
   "cell_type": "markdown",
   "id": "d80b8d8c",
   "metadata": {},
   "source": [
    "## step 2 convert to pandas DataFrame"
   ]
  },
  {
   "cell_type": "code",
   "execution_count": 2,
   "id": "6447ccca",
   "metadata": {},
   "outputs": [],
   "source": [
    "#import pandas\n",
    "import pandas as pd"
   ]
  },
  {
   "cell_type": "markdown",
   "id": "b22ea566",
   "metadata": {},
   "source": [
    "### Using pandas we then change the csv file to a pandas DataFrame"
   ]
  },
  {
   "cell_type": "code",
   "execution_count": 3,
   "id": "3374b89a",
   "metadata": {},
   "outputs": [],
   "source": [
    "covid_out = pd.read_csv('COVID-19_Outcomes_by_Testing_Cohorts__Cases__Hospitalizations__and_Deaths_20240603.csv')\n",
    "covid_waste = pd.read_csv('SARS-CoV-2_concentrations_measured_in_NYC_Wastewater_20240603.csv')"
   ]
  },
  {
   "cell_type": "markdown",
   "id": "b5daea9a",
   "metadata": {},
   "source": [
    "### now we are ready to begin data cleaning"
   ]
  },
  {
   "cell_type": "code",
   "execution_count": null,
   "id": "07ee51b1",
   "metadata": {},
   "outputs": [],
   "source": []
  }
 ],
 "metadata": {
  "kernelspec": {
   "display_name": "Python 3 (ipykernel)",
   "language": "python",
   "name": "python3"
  },
  "language_info": {
   "codemirror_mode": {
    "name": "ipython",
    "version": 3
   },
   "file_extension": ".py",
   "mimetype": "text/x-python",
   "name": "python",
   "nbconvert_exporter": "python",
   "pygments_lexer": "ipython3",
   "version": "3.11.3"
  }
 },
 "nbformat": 4,
 "nbformat_minor": 5
}
